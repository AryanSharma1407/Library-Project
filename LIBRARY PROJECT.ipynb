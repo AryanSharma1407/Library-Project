{
 "cells": [
  {
   "cell_type": "code",
   "execution_count": null,
   "id": "055ffa75-4e20-40b6-a7d3-fe14e9e7ceae",
   "metadata": {},
   "outputs": [
    {
     "name": "stdin",
     "output_type": "stream",
     "text": [
      "entre your username here:  a\n",
      "entre your password here:  a\n"
     ]
    },
    {
     "name": "stdout",
     "output_type": "stream",
     "text": [
      "LOGIN SUCCESSFUL\n",
      "\n",
      "        |||||***WELCOME TO LIBRARY MANAGMENT SYSTEM***|||||\n",
      "AVAILABLE BOOKS IN LIBRARY :  {'Maths': 20, 'English': 20, 'Hindi': 20}\n",
      "           PRESS 1 TO BORROW A BOOK\n",
      "            PRESS 2 TO RETURN A BOOK\n"
     ]
    },
    {
     "name": "stdin",
     "output_type": "stream",
     "text": [
      "WELCOME USER\n",
      "        TYPE HERE TO BORROW OR RETURN 1\n",
      "ENTRE BORROWER'S NAME:    ayushi\n",
      "NAME OF THE BOOK YOU WANT TO BORROW:   maths\n",
      "Do you want more books in your cart yes\n",
      "NAME OF THE BOOK YOU WANT TO BORROW:   english\n",
      "Do you want more books in your cart no\n"
     ]
    },
    {
     "name": "stdout",
     "output_type": "stream",
     "text": [
      "**** Ayushi  YOU HAVE BORROWED ['Maths', 'English'] KEEP IT SAFE UNTIL YOU RETURN****\n",
      "{'Ayushi': ['Maths', 'English']}\n",
      "------------------------------------------------------------\n"
     ]
    },
    {
     "name": "stdin",
     "output_type": "stream",
     "text": [
      "do you want to repeat again? yes\n"
     ]
    },
    {
     "name": "stdout",
     "output_type": "stream",
     "text": [
      "\n",
      "        |||||***WELCOME TO LIBRARY MANAGMENT SYSTEM***|||||\n",
      "AVAILABLE BOOKS IN LIBRARY :  {'Maths': 19, 'English': 19, 'Hindi': 20}\n",
      "           PRESS 1 TO BORROW A BOOK\n",
      "            PRESS 2 TO RETURN A BOOK\n"
     ]
    },
    {
     "name": "stdin",
     "output_type": "stream",
     "text": [
      "WELCOME USER\n",
      "        TYPE HERE TO BORROW OR RETURN 2\n",
      "ENTRE NAME:    ayushi\n",
      "ENTRE RETURNED BOOK NAME:    maths\n",
      "Do you want to deposit any another book? no\n"
     ]
    },
    {
     "name": "stdout",
     "output_type": "stream",
     "text": [
      "{'Maths': 20, 'English': 19, 'Hindi': 20}\n",
      "Ayushi  YOU HAVE RETURNED Maths BOOK, THANKYOU\n",
      "{'Ayushi': ['English']}\n",
      "------------------------------------------------------------\n"
     ]
    }
   ],
   "source": [
    "book= {\"Maths\":20, \"English\":20, \"Hindi\":20}\n",
    "bobooks = {}\n",
    "\n",
    "a = input(\"entre your username here: \")\n",
    "b = input (\"entre your password here: \")\n",
    "\n",
    "if a == \"a\" and b == \"a\":\n",
    "    print(\"LOGIN SUCCESSFUL\")\n",
    "    while True:\n",
    "        print(\"\"\"\n",
    "        |||||***WELCOME TO LIBRARY MANAGMENT SYSTEM***|||||\"\"\")\n",
    "        print(\"AVAILABLE BOOKS IN LIBRARY : \", book)\n",
    "    \n",
    "       \n",
    "        print(\"\"\"           PRESS 1 TO BORROW A BOOK\n",
    "            PRESS 2 TO RETURN A BOOK\"\"\")\n",
    "    \n",
    "        c = int(input(\"\"\"WELCOME USER\n",
    "        TYPE HERE TO BORROW OR RETURN\"\"\"))\n",
    "        if c == 1:\n",
    "            name = input(\"ENTRE BORROWER'S NAME:   \").title()\n",
    "            w = []\n",
    "            while True:\n",
    "                x = input(\"NAME OF THE BOOK YOU WANT TO BORROW:  \").title()\n",
    "                w.append(x)\n",
    "                book[x]-=1\n",
    "                bobooks[name]= w\n",
    "        \n",
    "                \n",
    "                repeat = input(\"Do you want more books in your cart\")\n",
    "                if repeat == \"no\":\n",
    "                    break\n",
    "            print(\"****\",name, \" YOU HAVE BORROWED\",w, \"KEEP IT SAFE UNTIL YOU RETURN****\" )\n",
    "            print(bobooks)\n",
    "            print(\"-\"*60)\n",
    "                \n",
    "           \n",
    "        elif c==2:\n",
    "            name = input(\"ENTRE NAME:   \").title()\n",
    "            while True:\n",
    "                w = input(\"ENTRE RETURNED BOOK NAME:   \").title()\n",
    "        \n",
    "                book[w]+=1\n",
    "                bobooks[name].remove(w)\n",
    "    \n",
    "                repeat = input(\"Do you want to deposit any another book?\")\n",
    "                if repeat == \"no\":\n",
    "                    break\n",
    "            print(book)\n",
    "            print(name, \" YOU HAVE RETURNED\",w, \"BOOK, THANKYOU\")\n",
    "            print(bobooks)\n",
    "            print(\"-\"*60)\n",
    "                 \n",
    "        again = input(\"do you want to repeat again?\")\n",
    "        if again == \"no\":\n",
    "                \n",
    "                break\n",
    "    \n",
    "    \n",
    "    else:\n",
    "        print(\"SORRY, ENTRE CORRECT USERNAME OF PASSWORD\")"
   ]
  },
  {
   "cell_type": "code",
   "execution_count": null,
   "id": "4ad47d6b-7a27-40d5-abc8-b616232a951c",
   "metadata": {},
   "outputs": [],
   "source": []
  },
  {
   "cell_type": "code",
   "execution_count": null,
   "id": "e1d8651f-6e81-4bd6-992b-7fb9f91a7452",
   "metadata": {},
   "outputs": [],
   "source": []
  }
 ],
 "metadata": {
  "kernelspec": {
   "display_name": "Python 3 (ipykernel)",
   "language": "python",
   "name": "python3"
  },
  "language_info": {
   "codemirror_mode": {
    "name": "ipython",
    "version": 3
   },
   "file_extension": ".py",
   "mimetype": "text/x-python",
   "name": "python",
   "nbconvert_exporter": "python",
   "pygments_lexer": "ipython3",
   "version": "3.11.6"
  }
 },
 "nbformat": 4,
 "nbformat_minor": 5
}
